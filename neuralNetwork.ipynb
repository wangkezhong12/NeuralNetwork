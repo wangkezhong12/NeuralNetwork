{
 "cells": [
  {
   "cell_type": "code",
   "execution_count": 9,
   "metadata": {},
   "outputs": [],
   "source": [
    "import numpy\n",
    "\n",
    "class neuralNetWork :\n",
    "    \n",
    "    def __init__(self, inputnodes, hiddennodes, outputnodes, learningrate):\n",
    "        self.inodes = inputnodes\n",
    "        self.hnodes = hiddennodes\n",
    "        self.onodes = outputnodes\n",
    "        self.lr = learningrate\n",
    "        \n",
    "        # self.wih = numpy.random.rand(self.hnodes, self.inodes)-0.5\n",
    "        # self.who = numpy.random.rand(self.onodes, self.hnodes)-0.5\n",
    "        \n",
    "        \n",
    "        self.wih = numpy.random.normal(0.0, pow(self.hnodes, -0.5), (self.hnodes, self.inodes))\n",
    "        self.wih = numpy.random.normal(0.0, pow(self.hnodes, -0.5), (self.hnodes, self.inodes))\n",
    "        print self.wih\n",
    "        pass\n",
    "    \n",
    "    def train():\n",
    "        \n",
    "        pass\n",
    "    \n",
    "    def query():\n",
    "        pass\n",
    "    "
   ]
  },
  {
   "cell_type": "code",
   "execution_count": 10,
   "metadata": {},
   "outputs": [
    {
     "name": "stdout",
     "output_type": "stream",
     "text": [
      "[[ 0.93731058  0.47842226  0.51156205]\n",
      " [-0.26980742 -0.50447129  0.57107416]\n",
      " [ 0.01896767 -0.60594816 -0.28775455]]\n"
     ]
    }
   ],
   "source": [
    "input_nodes = 3\n",
    "hiden_nodes = 3\n",
    "output_nodes = 3\n",
    "learn_rate = 0.5\n",
    "\n",
    "n = neuralNetWork(input_nodes, hiden_nodes, output_nodes, learn_rate)\n"
   ]
  },
  {
   "cell_type": "code",
   "execution_count": null,
   "metadata": {},
   "outputs": [],
   "source": []
  }
 ],
 "metadata": {
  "kernelspec": {
   "display_name": "Python 2",
   "language": "python",
   "name": "python2"
  },
  "language_info": {
   "codemirror_mode": {
    "name": "ipython",
    "version": 2
   },
   "file_extension": ".py",
   "mimetype": "text/x-python",
   "name": "python",
   "nbconvert_exporter": "python",
   "pygments_lexer": "ipython2",
   "version": "2.7.16"
  }
 },
 "nbformat": 4,
 "nbformat_minor": 2
}
